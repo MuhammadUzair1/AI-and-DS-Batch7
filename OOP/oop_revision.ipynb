{
 "cells": [
  {
   "cell_type": "markdown",
   "id": "98363f20",
   "metadata": {},
   "source": [
    "# **OOP REVISION**\n",
    "Object Oriented Programming makes code scalable, reusable, enables smart work and maintainable.\n",
    "\n",
    "### 4 Pillars of OOP\n",
    "- Encapsulation\n",
    "- Abstraction\n",
    "- Polymorphism\n",
    "- Inheritence"
   ]
  },
  {
   "cell_type": "code",
   "execution_count": null,
   "id": "efe732de",
   "metadata": {},
   "outputs": [],
   "source": [
    "# Inheritence\n",
    "class teacher:\n",
    "\n",
    "    # constructor\n",
    "    def __init__(self, name, course_name, age, exp):\n",
    "        self.name = name\n",
    "        self.course_name = course_name\n",
    "        self.age = age\n",
    "        self.exp = exp\n",
    "\n",
    "    def intro(self):\n",
    "        return f'In Saylani, Course {self.course_name} is taught by {self.name} having experience of {self.exp} years'\n",
    "    \n",
    "class student_class(teacher):\n",
    "    def __init__(self, course_name, students, group):\n",
    "        super().__init__\n",
    "        self.course_name = course_name\n",
    "        self.students = students\n",
    "        self.group = group"
   ]
  },
  {
   "cell_type": "code",
   "execution_count": 6,
   "id": "6d8173d8",
   "metadata": {},
   "outputs": [],
   "source": [
    "obj = teacher('Uzair', 'AI and DS', '22', '4')"
   ]
  },
  {
   "cell_type": "code",
   "execution_count": 7,
   "id": "1510197d",
   "metadata": {},
   "outputs": [
    {
     "data": {
      "text/plain": [
       "'In Saylani, Course AI and DS is taught by Uzair having experience of 4 years'"
      ]
     },
     "execution_count": 7,
     "metadata": {},
     "output_type": "execute_result"
    }
   ],
   "source": [
    "obj.intro()"
   ]
  },
  {
   "cell_type": "code",
   "execution_count": 26,
   "id": "5be54b02",
   "metadata": {},
   "outputs": [],
   "source": [
    "# methods with arguments\n",
    "class human:\n",
    "    # class variables\n",
    "    religion = 'Islam'\n",
    "    \n",
    "    \n",
    "    def __init__(self, name, gender, age : int = 0): # init is the method \n",
    "        self.name = name # self is used to call object\n",
    "        self.gender = gender # name, gender and age are the attributes\n",
    "        self.age = age\n",
    "\n",
    "    def greet(self):\n",
    "        print('Assalam Alaikum!!!')\n",
    "\n",
    "    def info(self):\n",
    "        print('The person',self.name,'is', self.gender,'having an age of',self.age, 'years and he is a proud', human.religion)\n",
    "\n",
    "    def friend(self, buddy):\n",
    "        self.buddy = buddy\n",
    "        buddy.buddy = self"
   ]
  },
  {
   "cell_type": "code",
   "execution_count": 27,
   "id": "a31494cd",
   "metadata": {},
   "outputs": [],
   "source": [
    "per1 = human('Shariq', 'Male', '42')\n",
    "per2 = human('Abu Bakr', 'Male', '39')\n",
    "\n",
    "per1.friend(per2)"
   ]
  },
  {
   "cell_type": "code",
   "execution_count": 28,
   "id": "ad10fd81",
   "metadata": {},
   "outputs": [
    {
     "name": "stdout",
     "output_type": "stream",
     "text": [
      "Abu Bakr\n"
     ]
    }
   ],
   "source": [
    "print(per1.buddy.name)"
   ]
  },
  {
   "cell_type": "markdown",
   "id": "ce35d2df",
   "metadata": {},
   "source": [
    "### Abstraction\n",
    "\n",
    "The concept of hiding the complex reality of the code and only exposing the necessary part of the code.\n",
    "\n",
    "- A class containing one or more abstract methods\n",
    "- Abstract methods does not contain their implementations\n",
    "- Abstract class are the blueprint of the other class\n",
    "- These classes are used to write complex and large codes\n",
    "- Abstract classes can note refrenced with a object"
   ]
  },
  {
   "cell_type": "code",
   "execution_count": 31,
   "id": "5df9b701",
   "metadata": {},
   "outputs": [
    {
     "name": "stdout",
     "output_type": "stream",
     "text": [
      "Triangle has 3 sides\n",
      "Square has 4 sides\n"
     ]
    }
   ],
   "source": [
    "class shapes: # abstract class\n",
    "    # abstract method\n",
    "    def sides(self):\n",
    "        pass\n",
    "\n",
    "class triangle(shapes):\n",
    "    def sides(self):\n",
    "        print('Triangle has 3 sides')\n",
    "\n",
    "class square(shapes):\n",
    "    def sides(self):\n",
    "        print('Square has 4 sides')\n",
    "\n",
    "trianlge = triangle()\n",
    "trianlge.sides()\n",
    "\n",
    "squ = square()\n",
    "squ.sides()"
   ]
  },
  {
   "cell_type": "markdown",
   "id": "5c66b447",
   "metadata": {},
   "source": [
    "### Encapsulation\n",
    "Defining the scope of the variables and limiting them to either a class, method, or object."
   ]
  },
  {
   "cell_type": "code",
   "execution_count": 32,
   "id": "2500f939",
   "metadata": {},
   "outputs": [],
   "source": [
    "class saylani:\n",
    "    def __init__(self):\n",
    "        self.roll = '7980' # public\n",
    "        self._branch = 'Zaitoon Ashraf' # protected\n",
    "        self.__students = 800 # private"
   ]
  },
  {
   "cell_type": "code",
   "execution_count": 33,
   "id": "980f235f",
   "metadata": {},
   "outputs": [
    {
     "data": {
      "text/plain": [
       "'7980'"
      ]
     },
     "execution_count": 33,
     "metadata": {},
     "output_type": "execute_result"
    }
   ],
   "source": [
    "smit = saylani()\n",
    "smit.roll"
   ]
  },
  {
   "cell_type": "code",
   "execution_count": 34,
   "id": "bf3566b3",
   "metadata": {},
   "outputs": [
    {
     "data": {
      "text/plain": [
       "'Zaitoon Ashraf'"
      ]
     },
     "execution_count": 34,
     "metadata": {},
     "output_type": "execute_result"
    }
   ],
   "source": [
    "smit._branch"
   ]
  },
  {
   "cell_type": "code",
   "execution_count": 35,
   "id": "6c3e1ec4",
   "metadata": {},
   "outputs": [
    {
     "ename": "AttributeError",
     "evalue": "'saylani' object has no attribute '__students'",
     "output_type": "error",
     "traceback": [
      "\u001b[1;31m---------------------------------------------------------------------------\u001b[0m",
      "\u001b[1;31mAttributeError\u001b[0m                            Traceback (most recent call last)",
      "Cell \u001b[1;32mIn[35], line 1\u001b[0m\n\u001b[1;32m----> 1\u001b[0m smit\u001b[38;5;241m.\u001b[39m__students\n",
      "\u001b[1;31mAttributeError\u001b[0m: 'saylani' object has no attribute '__students'"
     ]
    }
   ],
   "source": [
    "smit.__students"
   ]
  },
  {
   "cell_type": "markdown",
   "id": "0604441f",
   "metadata": {},
   "source": [
    "### Polymorphism\n",
    "The ability of different classes to execute same command or method but in different ways."
   ]
  },
  {
   "cell_type": "code",
   "execution_count": 36,
   "id": "cca61c54",
   "metadata": {},
   "outputs": [],
   "source": [
    "class person():\n",
    "    def __init__(self, gender):\n",
    "        self.gender = gender\n",
    "\n",
    "    def about(self):\n",
    "        print(f'Gender of this person is {self.gender}')\n"
   ]
  },
  {
   "cell_type": "code",
   "execution_count": 39,
   "id": "3a55363f",
   "metadata": {},
   "outputs": [
    {
     "name": "stdout",
     "output_type": "stream",
     "text": [
      "Animal is eating\n",
      "Bird is eating\n",
      "Fish is eating\n"
     ]
    }
   ],
   "source": [
    "# Overriding\n",
    "class animal():\n",
    "    def eating(self):\n",
    "        return f'Animal is eating'\n",
    "\n",
    "class bird(animal):\n",
    "    def eating(self):\n",
    "        return f'Bird is eating'\n",
    "\n",
    "class fish(animal):\n",
    "    def eating(self):\n",
    "        return 'Fish is eating'\n",
    "\n",
    "animals = [animal(), bird(), fish()]\n",
    "for ani in animals:\n",
    "    print(ani.eating())"
   ]
  },
  {
   "cell_type": "code",
   "execution_count": 38,
   "id": "395fb7af",
   "metadata": {},
   "outputs": [
    {
     "data": {
      "text/plain": [
       "'Animal is eating cake'"
      ]
     },
     "execution_count": 38,
     "metadata": {},
     "output_type": "execute_result"
    }
   ],
   "source": [
    "totta = animal()\n",
    "totta.eating('cake')"
   ]
  },
  {
   "cell_type": "code",
   "execution_count": null,
   "id": "2b22b085",
   "metadata": {},
   "outputs": [],
   "source": []
  }
 ],
 "metadata": {
  "kernelspec": {
   "display_name": "base",
   "language": "python",
   "name": "python3"
  },
  "language_info": {
   "codemirror_mode": {
    "name": "ipython",
    "version": 3
   },
   "file_extension": ".py",
   "mimetype": "text/x-python",
   "name": "python",
   "nbconvert_exporter": "python",
   "pygments_lexer": "ipython3",
   "version": "3.12.7"
  }
 },
 "nbformat": 4,
 "nbformat_minor": 5
}
